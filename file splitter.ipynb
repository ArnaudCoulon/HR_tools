{
 "cells": [
  {
   "cell_type": "code",
   "execution_count": 34,
   "id": "6777f878",
   "metadata": {},
   "outputs": [],
   "source": [
    "import pandas as pd"
   ]
  },
  {
   "cell_type": "code",
   "execution_count": 35,
   "id": "8c004c18",
   "metadata": {},
   "outputs": [
    {
     "name": "stdout",
     "output_type": "stream",
     "text": [
      "Entrez le nom du fichier Absences_a_déduire.xlsx\n"
     ]
    }
   ],
   "source": [
    "file = input(\"Entrez le nom du fichier \")\n",
    "#file = \"IP_agents.xlsx\"\n",
    "df = pd.read_excel(file)"
   ]
  },
  {
   "cell_type": "code",
   "execution_count": 36,
   "id": "313baf0f",
   "metadata": {},
   "outputs": [
    {
     "name": "stdout",
     "output_type": "stream",
     "text": [
      "Voici la liste des colonnes :\n",
      "Région actuelle\n",
      "Matricule GT\n",
      "Matricule GA\n",
      "Nom\n",
      "Prénom\n",
      "Région au moment de l'absence\n",
      "Motif (Code)\n",
      "Motif\n",
      "Libellé complémentaire\n",
      "Mémo\n",
      "Date début Absence\n",
      "Date fin Absence Fusionnée\n",
      "Nombre de jours ouvrés d'absences\n",
      "Nombre d'heures d'absences\n"
     ]
    }
   ],
   "source": [
    "print(\"Voici la liste des colonnes :\")\n",
    "for col in df.columns:\n",
    "    print(col)"
   ]
  },
  {
   "cell_type": "code",
   "execution_count": 37,
   "id": "09bc9955",
   "metadata": {},
   "outputs": [
    {
     "name": "stdout",
     "output_type": "stream",
     "text": [
      "Entrez le nom de la colonne de base pour le découpage Région actuelle\n"
     ]
    }
   ],
   "source": [
    "col = input(\"Entrez le nom de la colonne de base pour le découpage \")\n",
    "#col = \"Région actuelle\""
   ]
  },
  {
   "cell_type": "code",
   "execution_count": 38,
   "id": "19993a9d",
   "metadata": {},
   "outputs": [],
   "source": [
    "libelle = df[[col]]\n",
    "libelle.drop_duplicates(keep = 'first', inplace=True)\n",
    "libelle=pd.DataFrame(libelle)"
   ]
  },
  {
   "cell_type": "code",
   "execution_count": 39,
   "id": "34160435",
   "metadata": {},
   "outputs": [
    {
     "name": "stdout",
     "output_type": "stream",
     "text": [
      "Entrez le nom du préfixe au fichierabsence à déduire - \n"
     ]
    }
   ],
   "source": [
    "prefixe = input(\"Entrez le nom du préfixe au fichier\")\n",
    "#prefixe = \"IP_agent - \""
   ]
  },
  {
   "cell_type": "code",
   "execution_count": 40,
   "id": "c3bbc01a",
   "metadata": {},
   "outputs": [
    {
     "name": "stdout",
     "output_type": "stream",
     "text": [
      "PAYS DE LA LOIRE en cours de traitement\n",
      "NOUVELLE AQUITAINE en cours de traitement\n",
      "REUNION en cours de traitement\n",
      "DG SIEGE POLE EMPLOI en cours de traitement\n",
      "NORMANDIE en cours de traitement\n",
      "GRAND EST en cours de traitement\n",
      "POLE EMPLOI SERVICES en cours de traitement\n",
      "PACA en cours de traitement\n",
      "AUVERGNE-RHÔNE-ALPES en cours de traitement\n",
      "OCCITANIE en cours de traitement\n",
      "CENTRE VAL DE LOIRE en cours de traitement\n",
      "HAUTS DE FRANCE en cours de traitement\n",
      "ILE DE FRANCE en cours de traitement\n",
      "BOURGOGNE-FRANCHE-COMTE en cours de traitement\n",
      "POLE EMPLOI - DSI en cours de traitement\n",
      "BRETAGNE en cours de traitement\n",
      "GUADELOUPE en cours de traitement\n",
      "MARTINIQUE en cours de traitement\n",
      "GUYANE en cours de traitement\n",
      "MAYOTTE en cours de traitement\n",
      "CORSE en cours de traitement\n",
      "Traitement terminé\n"
     ]
    }
   ],
   "source": [
    "for i in libelle[col] :\n",
    "    writer = pd.ExcelWriter(prefixe+i+\".xlsx\")\n",
    "    print(i,\"en cours de traitement\")\n",
    "    df_temp = df[(df[col] == i)]\n",
    "    df_temp.to_excel(writer, index = False)\n",
    "    writer.save()\n",
    "\n",
    "          \n",
    "print(\"Traitement terminé\")"
   ]
  }
 ],
 "metadata": {
  "kernelspec": {
   "display_name": "Python 3 (ipykernel)",
   "language": "python",
   "name": "python3"
  },
  "language_info": {
   "codemirror_mode": {
    "name": "ipython",
    "version": 3
   },
   "file_extension": ".py",
   "mimetype": "text/x-python",
   "name": "python",
   "nbconvert_exporter": "python",
   "pygments_lexer": "ipython3",
   "version": "3.7.11"
  }
 },
 "nbformat": 4,
 "nbformat_minor": 5
}
