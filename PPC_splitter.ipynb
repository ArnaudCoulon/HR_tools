{
 "cells": [
  {
   "cell_type": "code",
   "execution_count": 1,
   "id": "9ee5350f",
   "metadata": {},
   "outputs": [],
   "source": [
    "import pandas as pd"
   ]
  },
  {
   "cell_type": "code",
   "execution_count": 36,
   "id": "e0e35350",
   "metadata": {},
   "outputs": [
    {
     "name": "stdout",
     "output_type": "stream",
     "text": [
      "Assurez vous d'avoir placé le script dans le dossier du fichier à découper\n",
      "Entrez le nom du fichierPEPRD_SIRHUS_205_20220323.csv\n"
     ]
    }
   ],
   "source": [
    "print(\"Assurez vous d'avoir placé le fichier dans le même dossier que le fichier à découper\")\n",
    "file = input(\"Entrez le nom du fichier\")\n",
    "\n",
    "df = pd.read_csv(file,sep =\";\",encoding='latin-1',low_memory=False, header=None)\n",
    "\n",
    "del df[5]\n",
    "df.columns = [\"Matricule\",\"Libelle_donnée\",\"Donnée\",\"Date_début\",\"Date_fin\"]\n",
    "\n",
    "df = df.sort_values(\"Libelle_donnée\")\n",
    "df[\"Lettre\"] = df[\"Libelle_donnée\"].str.get(0)"
   ]
  },
  {
   "cell_type": "code",
   "execution_count": 43,
   "id": "f7633aa8",
   "metadata": {
    "scrolled": true
   },
   "outputs": [
    {
     "name": "stdout",
     "output_type": "stream",
     "text": [
      "2363486  lignes à traiter :\n",
      "\n"
     ]
    }
   ],
   "source": [
    "print(df.shape[0],\" lignes à traiter\")\n",
    "print()"
   ]
  },
  {
   "cell_type": "code",
   "execution_count": 38,
   "id": "e211f034",
   "metadata": {
    "scrolled": true
   },
   "outputs": [
    {
     "name": "stderr",
     "output_type": "stream",
     "text": [
      "C:\\ProgramData\\Anaconda3\\lib\\site-packages\\pandas\\util\\_decorators.py:311: SettingWithCopyWarning: \n",
      "A value is trying to be set on a copy of a slice from a DataFrame\n",
      "\n",
      "See the caveats in the documentation: https://pandas.pydata.org/pandas-docs/stable/user_guide/indexing.html#returning-a-view-versus-a-copy\n",
      "  return func(*args, **kwargs)\n"
     ]
    }
   ],
   "source": [
    "#Création de la table des valeurs uniques\n",
    "libelle = df[[\"Libelle_donnée\",\"Lettre\"]]\n",
    "libelle.drop_duplicates(keep = 'first', inplace=True)\n",
    "libelle=pd.DataFrame(libelle)"
   ]
  },
  {
   "cell_type": "code",
   "execution_count": 39,
   "id": "c263eb8b",
   "metadata": {},
   "outputs": [
    {
     "data": {
      "text/html": [
       "<div>\n",
       "<style scoped>\n",
       "    .dataframe tbody tr th:only-of-type {\n",
       "        vertical-align: middle;\n",
       "    }\n",
       "\n",
       "    .dataframe tbody tr th {\n",
       "        vertical-align: top;\n",
       "    }\n",
       "\n",
       "    .dataframe thead th {\n",
       "        text-align: right;\n",
       "    }\n",
       "</style>\n",
       "<table border=\"1\" class=\"dataframe\">\n",
       "  <thead>\n",
       "    <tr style=\"text-align: right;\">\n",
       "      <th></th>\n",
       "      <th>Lettre</th>\n",
       "    </tr>\n",
       "  </thead>\n",
       "  <tbody>\n",
       "    <tr>\n",
       "      <th>261372</th>\n",
       "      <td>2</td>\n",
       "    </tr>\n",
       "    <tr>\n",
       "      <th>1078117</th>\n",
       "      <td>A</td>\n",
       "    </tr>\n",
       "    <tr>\n",
       "      <th>2133455</th>\n",
       "      <td>C</td>\n",
       "    </tr>\n",
       "    <tr>\n",
       "      <th>981965</th>\n",
       "      <td>D</td>\n",
       "    </tr>\n",
       "    <tr>\n",
       "      <th>2303863</th>\n",
       "      <td>E</td>\n",
       "    </tr>\n",
       "    <tr>\n",
       "      <th>695113</th>\n",
       "      <td>F</td>\n",
       "    </tr>\n",
       "    <tr>\n",
       "      <th>103411</th>\n",
       "      <td>H</td>\n",
       "    </tr>\n",
       "    <tr>\n",
       "      <th>56530</th>\n",
       "      <td>I</td>\n",
       "    </tr>\n",
       "    <tr>\n",
       "      <th>483854</th>\n",
       "      <td>L</td>\n",
       "    </tr>\n",
       "    <tr>\n",
       "      <th>844048</th>\n",
       "      <td>M</td>\n",
       "    </tr>\n",
       "    <tr>\n",
       "      <th>1344670</th>\n",
       "      <td>N</td>\n",
       "    </tr>\n",
       "    <tr>\n",
       "      <th>1674464</th>\n",
       "      <td>P</td>\n",
       "    </tr>\n",
       "    <tr>\n",
       "      <th>109084</th>\n",
       "      <td>S</td>\n",
       "    </tr>\n",
       "    <tr>\n",
       "      <th>21944</th>\n",
       "      <td>T</td>\n",
       "    </tr>\n",
       "  </tbody>\n",
       "</table>\n",
       "</div>"
      ],
      "text/plain": [
       "        Lettre\n",
       "261372       2\n",
       "1078117      A\n",
       "2133455      C\n",
       "981965       D\n",
       "2303863      E\n",
       "695113       F\n",
       "103411       H\n",
       "56530        I\n",
       "483854       L\n",
       "844048       M\n",
       "1344670      N\n",
       "1674464      P\n",
       "109084       S\n",
       "21944        T"
      ]
     },
     "execution_count": 39,
     "metadata": {},
     "output_type": "execute_result"
    }
   ],
   "source": [
    "lettre = libelle[[\"Lettre\"]]\n",
    "lettre.drop_duplicates(keep = 'first', inplace=True)"
   ]
  },
  {
   "cell_type": "code",
   "execution_count": 45,
   "id": "a685ff29",
   "metadata": {},
   "outputs": [
    {
     "name": "stdout",
     "output_type": "stream",
     "text": [
      "Lettre 2 en cours de traitement\n",
      "Lettre A en cours de traitement\n",
      "Lettre C en cours de traitement\n",
      "Lettre D en cours de traitement\n",
      "Lettre E en cours de traitement\n",
      "Lettre F en cours de traitement\n",
      "Lettre H en cours de traitement\n",
      "Lettre I en cours de traitement\n",
      "Lettre L en cours de traitement\n",
      "Lettre M en cours de traitement\n",
      "Lettre N en cours de traitement\n",
      "Lettre P en cours de traitement\n",
      "Lettre S en cours de traitement\n",
      "Lettre T en cours de traitement\n",
      "Traitement terminé. Le fichier est sauvegardé sous le nom FULL_PPC.xlsx\n"
     ]
    }
   ],
   "source": [
    "writer = pd.ExcelWriter('FULL_PPC.xlsx')\n",
    "for i in lettre[\"Lettre\"] :\n",
    "    print(\"Lettre\",i,\"en cours de traitement\")\n",
    "    df_temp = df[(df['Lettre'] == i)]\n",
    "    del df_temp['Lettre']\n",
    "    df_temp.to_excel(writer, sheet_name = i, index = False)\n",
    "    \n",
    "writer.save()\n",
    "          \n",
    "print(\"Traitement terminé. Le fichier est sauvegardé sous le nom FULL_PPC.xlsx\")"
   ]
  }
 ],
 "metadata": {
  "kernelspec": {
   "display_name": "Python 3 (ipykernel)",
   "language": "python",
   "name": "python3"
  },
  "language_info": {
   "codemirror_mode": {
    "name": "ipython",
    "version": 3
   },
   "file_extension": ".py",
   "mimetype": "text/x-python",
   "name": "python",
   "nbconvert_exporter": "python",
   "pygments_lexer": "ipython3",
   "version": "3.7.11"
  }
 },
 "nbformat": 4,
 "nbformat_minor": 5
}
